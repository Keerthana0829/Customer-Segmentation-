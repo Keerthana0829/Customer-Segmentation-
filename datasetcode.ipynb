{
 "cells": [
  {
   "cell_type": "code",
   "execution_count": 11,
   "id": "ca4f8ff7-8464-49df-bef0-1e94d932dcd6",
   "metadata": {},
   "outputs": [],
   "source": [
    "import pandas as pd\n",
    "import numpy as np"
   ]
  },
  {
   "cell_type": "code",
   "execution_count": 13,
   "id": "fecfee0f-f2d5-4083-bf8f-e6a29de824ac",
   "metadata": {},
   "outputs": [
    {
     "name": "stdout",
     "output_type": "stream",
     "text": [
      "   Customer_ID  Age  Gender  Location    Occupation  Visit_Frequency  \\\n",
      "0            1   56    Male     Urban       Retired               16   \n",
      "1            2   69    Male  Suburban  Professional               12   \n",
      "2            3   46    Male     Urban       Student               12   \n",
      "3            4   32  Female  Suburban       Student                6   \n",
      "4            5   60    Male     Urban  Professional                4   \n",
      "\n",
      "  Preferred_Dining_Time  Average_Spend Favorite_Cuisine  Total_Expenditure  \\\n",
      "0                 Lunch      72.744732          Italian        4351.740280   \n",
      "1               Weekend      27.409181          Italian        3567.340870   \n",
      "2                Dinner      67.735403           Indian         620.447755   \n",
      "3                 Lunch      33.384532           Indian        3901.798547   \n",
      "4                Dinner      89.747750          Italian        4058.990908   \n",
      "\n",
      "   Discount_Used Payment_Method  Satisfaction_Rating       Phone  \n",
      "0              1         Online                    5  7358247718  \n",
      "1              1           Card                    5  7200285802  \n",
      "2              0           Card                    3  7305890169  \n",
      "3              0         Online                    2  2549512686  \n",
      "4              0         Online                    4  9478835958  \n",
      "0    7358247718\n",
      "1    7200285802\n",
      "2    7305890169\n",
      "3    2549512686\n",
      "4    9478835958\n",
      "Name: Phone, dtype: object\n"
     ]
    }
   ],
   "source": [
    "# Simulate demographics\n",
    "np.random.seed(42)\n",
    "n_samples = 1000\n",
    "\n",
    "data = pd.DataFrame({\n",
    "    'Customer_ID': range(1, n_samples + 1),\n",
    "    'Age': np.random.randint(18, 70, size=n_samples),\n",
    "    'Gender': np.random.choice(['Male', 'Female'], size=n_samples),\n",
    "    'Location': np.random.choice(['Urban', 'Suburban', 'Rural'], size=n_samples),\n",
    "    'Occupation': np.random.choice(['Student', 'Professional', 'Retired'], size=n_samples),\n",
    "    # Behavioral data\n",
    "    'Visit_Frequency': np.random.randint(1, 20, size=n_samples),\n",
    "    'Preferred_Dining_Time': np.random.choice(['Lunch', 'Dinner', 'Weekend'], size=n_samples),\n",
    "    'Average_Spend': np.random.uniform(10, 100, size=n_samples),\n",
    "    'Favorite_Cuisine': np.random.choice(['Italian', 'Chinese', 'Indian', 'Mexican'], size=n_samples),\n",
    "    # Purchase data\n",
    "    'Total_Expenditure': np.random.uniform(100, 5000, size=n_samples),\n",
    "    'Discount_Used': np.random.choice([0, 1], size=n_samples),\n",
    "    'Payment_Method': np.random.choice(['Cash', 'Card', 'Online'], size=n_samples),\n",
    "    # Feedback\n",
    "    'Satisfaction_Rating': np.random.randint(1, 6, size=n_samples),  # Ratings from 1 to 5\n",
    "})\n",
    "\n",
    "# Function to generate fake phone numbers\n",
    "def generate_fake_phone():\n",
    "    country_code = \"+91\"  \n",
    "    area_code = np.random.randint(100, 999)  # Random 3-digit area code\n",
    "    local_number = np.random.randint(1000000, 9999999)  # Random 7-digit number\n",
    "    return f\"{area_code}{local_number}\"\n",
    "\n",
    "# Add the Phone column with fake numbers\n",
    "data['Phone'] = [generate_fake_phone() for _ in range(n_samples)]\n",
    "\n",
    "# Set the first three rows to specific phone numbers\n",
    "data.loc[0, 'Phone'] = \"9834758456\"\n",
    "data.loc[1, 'Phone'] = \"9847545645\"\n",
    "data.loc[2, 'Phone'] = \"0598344388\"\n",
    "\n",
    "# Save the dataset to a CSV file\n",
    "data.to_csv('s_restaurant_data.csv', index=False)\n",
    "\n",
    "print(data.head())\n",
    "print(data['Phone'].head())\n"
   ]
  },
  {
   "cell_type": "code",
   "execution_count": null,
   "id": "0533293d-8ced-45a8-9070-70b6b7aa27e7",
   "metadata": {},
   "outputs": [],
   "source": []
  }
 ],
 "metadata": {
  "kernelspec": {
   "display_name": "Python [conda env:base] *",
   "language": "python",
   "name": "conda-base-py"
  },
  "language_info": {
   "codemirror_mode": {
    "name": "ipython",
    "version": 3
   },
   "file_extension": ".py",
   "mimetype": "text/x-python",
   "name": "python",
   "nbconvert_exporter": "python",
   "pygments_lexer": "ipython3",
   "version": "3.12.7"
  }
 },
 "nbformat": 4,
 "nbformat_minor": 5
}
